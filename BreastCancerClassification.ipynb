{
  "nbformat": 4,
  "nbformat_minor": 0,
  "metadata": {
    "colab": {
      "name": "BreastCancerClassification.ipynb",
      "provenance": [],
      "collapsed_sections": [],
      "mount_file_id": "1Gh2wTOe-UdvbsH88-IUiozQr161pZvAo",
      "authorship_tag": "ABX9TyNNz5v/d6Wjb9A5aMzfYOFn",
      "include_colab_link": true
    },
    "kernelspec": {
      "name": "python3",
      "display_name": "Python 3"
    },
    "language_info": {
      "name": "python"
    }
  },
  "cells": [
    {
      "cell_type": "markdown",
      "metadata": {
        "id": "view-in-github",
        "colab_type": "text"
      },
      "source": [
        "<a href=\"https://colab.research.google.com/github/aniketAnvekar/Breast-Cancer-Classification/blob/main/BreastCancerClassification.ipynb\" target=\"_parent\"><img src=\"https://colab.research.google.com/assets/colab-badge.svg\" alt=\"Open In Colab\"/></a>"
      ]
    },
    {
      "cell_type": "code",
      "metadata": {
        "id": "GyI03tOsc0UC"
      },
      "source": [
        "from glob import glob"
      ],
      "execution_count": 1,
      "outputs": []
    },
    {
      "cell_type": "code",
      "metadata": {
        "id": "tls92sB6CQ-S"
      },
      "source": [
        "import pandas as pd\n",
        "import numpy as np\n",
        "import os\n",
        "import random\n",
        "import matplotlib.pylab as plt"
      ],
      "execution_count": 2,
      "outputs": []
    },
    {
      "cell_type": "code",
      "metadata": {
        "id": "BOT3rDl_5Igu"
      },
      "source": [
        "my_paths = []\n",
        "\n",
        "for name in glob('/content/drive/MyDrive/Breast_Cancer_Classification/data/dataset/*', recursive=True):\n",
        "  my_paths.append(name)"
      ],
      "execution_count": 3,
      "outputs": []
    },
    {
      "cell_type": "code",
      "metadata": {
        "colab": {
          "base_uri": "https://localhost:8080/"
        },
        "id": "GdLUzK-U53_Z",
        "outputId": "ef80a332-ca14-4285-a05e-9d33081e7d99"
      },
      "source": [
        "len(my_paths)"
      ],
      "execution_count": 4,
      "outputs": [
        {
          "output_type": "execute_result",
          "data": {
            "text/plain": [
              "79"
            ]
          },
          "metadata": {},
          "execution_count": 4
        }
      ]
    },
    {
      "cell_type": "code",
      "metadata": {
        "colab": {
          "base_uri": "https://localhost:8080/"
        },
        "id": "VuEDJUtK57FE",
        "outputId": "9aafa7e9-00da-43a6-f685-73e8af6332b3"
      },
      "source": [
        "total_imaages = []\n",
        "my_paths = my_paths[:35]\n",
        "for i in my_paths:\n",
        "  total_imaages += glob(i+'/*/*.png', recursive=True)\n",
        "\n",
        "len(total_imaages)"
      ],
      "execution_count": 5,
      "outputs": [
        {
          "output_type": "execute_result",
          "data": {
            "text/plain": [
              "44786"
            ]
          },
          "metadata": {},
          "execution_count": 5
        }
      ]
    },
    {
      "cell_type": "code",
      "metadata": {
        "colab": {
          "base_uri": "https://localhost:8080/"
        },
        "id": "g1rl0w9x7RoS",
        "outputId": "2300a7ba-2e43-4643-bd14-c1ffc26f9c0b"
      },
      "source": [
        "total_imaages[:5]"
      ],
      "execution_count": null,
      "outputs": [
        {
          "output_type": "execute_result",
          "data": {
            "text/plain": [
              "['/content/drive/MyDrive/Breast_Cancer_Classification/data/dataset/10253/0/10253_idx5_x1001_y1001_class0.png',\n",
              " '/content/drive/MyDrive/Breast_Cancer_Classification/data/dataset/10253/0/10253_idx5_x1101_y451_class0.png',\n",
              " '/content/drive/MyDrive/Breast_Cancer_Classification/data/dataset/10253/0/10253_idx5_x1001_y1051_class0.png',\n",
              " '/content/drive/MyDrive/Breast_Cancer_Classification/data/dataset/10253/0/10253_idx5_x1001_y351_class0.png',\n",
              " '/content/drive/MyDrive/Breast_Cancer_Classification/data/dataset/10253/0/10253_idx5_x1151_y401_class0.png']"
            ]
          },
          "metadata": {},
          "execution_count": 5
        }
      ]
    },
    {
      "cell_type": "code",
      "metadata": {
        "colab": {
          "base_uri": "https://localhost:8080/"
        },
        "id": "JSWIAAXd7_X_",
        "outputId": "06a46a88-645e-4716-88b8-e98561ca4c47"
      },
      "source": [
        "images = total_imaages[:35000]\n",
        "\n",
        "images[:5]"
      ],
      "execution_count": 6,
      "outputs": [
        {
          "output_type": "execute_result",
          "data": {
            "text/plain": [
              "['/content/drive/MyDrive/Breast_Cancer_Classification/data/dataset/10253/0/10253_idx5_x1001_y1001_class0.png',\n",
              " '/content/drive/MyDrive/Breast_Cancer_Classification/data/dataset/10253/0/10253_idx5_x1101_y451_class0.png',\n",
              " '/content/drive/MyDrive/Breast_Cancer_Classification/data/dataset/10253/0/10253_idx5_x1001_y1051_class0.png',\n",
              " '/content/drive/MyDrive/Breast_Cancer_Classification/data/dataset/10253/0/10253_idx5_x1001_y351_class0.png',\n",
              " '/content/drive/MyDrive/Breast_Cancer_Classification/data/dataset/10253/0/10253_idx5_x1151_y401_class0.png']"
            ]
          },
          "metadata": {},
          "execution_count": 6
        }
      ]
    },
    {
      "cell_type": "code",
      "metadata": {
        "colab": {
          "base_uri": "https://localhost:8080/"
        },
        "id": "77dP32wG7-94",
        "outputId": "69d5b5be-e2f5-4349-f26b-d6728c341363"
      },
      "source": [
        "len(images)"
      ],
      "execution_count": 7,
      "outputs": [
        {
          "output_type": "execute_result",
          "data": {
            "text/plain": [
              "35000"
            ]
          },
          "metadata": {},
          "execution_count": 7
        }
      ]
    },
    {
      "cell_type": "code",
      "metadata": {
        "id": "bi2Z45XoBj0U"
      },
      "source": [
        "class0 = [] # 0 = no cancer\n",
        "class1 = [] # 1 = cancer\n",
        "\n",
        "for filename in images:\n",
        "    if filename.endswith(\"class0.png\"):\n",
        "         class0.append(filename)\n",
        "    else:\n",
        "        class1.append(filename)"
      ],
      "execution_count": 8,
      "outputs": []
    },
    {
      "cell_type": "code",
      "metadata": {
        "colab": {
          "base_uri": "https://localhost:8080/",
          "height": 35
        },
        "id": "BeCNvzz5BrxV",
        "outputId": "6d22f5ca-71c1-4e2f-a1a4-214150047fee"
      },
      "source": [
        "f\"Class1 has {len(class1)} images\""
      ],
      "execution_count": 9,
      "outputs": [
        {
          "output_type": "execute_result",
          "data": {
            "application/vnd.google.colaboratory.intrinsic+json": {
              "type": "string"
            },
            "text/plain": [
              "'Class1 has 7452 images'"
            ]
          },
          "metadata": {},
          "execution_count": 9
        }
      ]
    },
    {
      "cell_type": "code",
      "metadata": {
        "colab": {
          "base_uri": "https://localhost:8080/",
          "height": 35
        },
        "id": "mH5j8X1qCAQD",
        "outputId": "28e30ec9-4996-4e2c-af23-ea4566735c93"
      },
      "source": [
        "f\"Class0 has {len(class0)} images\""
      ],
      "execution_count": 10,
      "outputs": [
        {
          "output_type": "execute_result",
          "data": {
            "application/vnd.google.colaboratory.intrinsic+json": {
              "type": "string"
            },
            "text/plain": [
              "'Class0 has 27548 images'"
            ]
          },
          "metadata": {},
          "execution_count": 10
        }
      ]
    },
    {
      "cell_type": "code",
      "metadata": {
        "colab": {
          "base_uri": "https://localhost:8080/"
        },
        "id": "4GA4d0CxCEm_",
        "outputId": "e8a3de85-0350-4b89-ce4a-a098ec9ec45e"
      },
      "source": [
        "sampled_class0 = random.sample(class0, len(class1))\n",
        "sampled_class1 = random.sample(class1, len(class1))\n",
        "len(sampled_class0)"
      ],
      "execution_count": 11,
      "outputs": [
        {
          "output_type": "execute_result",
          "data": {
            "text/plain": [
              "7452"
            ]
          },
          "metadata": {},
          "execution_count": 11
        }
      ]
    },
    {
      "cell_type": "code",
      "metadata": {
        "id": "cmq1QPHwDAky"
      },
      "source": [
        "from matplotlib.image import imread\n",
        "import cv2"
      ],
      "execution_count": 12,
      "outputs": []
    },
    {
      "cell_type": "code",
      "metadata": {
        "colab": {
          "base_uri": "https://localhost:8080/"
        },
        "id": "AMCmLFyrCf7N",
        "outputId": "18ef4315-3305-47db-8838-720e2202ca61"
      },
      "source": [
        "img = sampled_class0[0]\n",
        "\n",
        "img = cv2.imread(img,cv2.IMREAD_COLOR)\n",
        "img.shape"
      ],
      "execution_count": 13,
      "outputs": [
        {
          "output_type": "execute_result",
          "data": {
            "text/plain": [
              "(50, 50, 3)"
            ]
          },
          "metadata": {},
          "execution_count": 13
        }
      ]
    },
    {
      "cell_type": "code",
      "metadata": {
        "colab": {
          "base_uri": "https://localhost:8080/",
          "height": 167
        },
        "id": "vqkYbb3qDkRS",
        "outputId": "794276f0-4af8-4e91-a3f8-37ad140dda67"
      },
      "source": [
        "from google.colab.patches import cv2_imshow\n",
        "img_sized = cv2.resize(img, (50, 50), interpolation=cv2.INTER_LINEAR)\n",
        "resz_img = cv2.resize(img_sized,(150,150))\n",
        "cv2_imshow(resz_img)"
      ],
      "execution_count": 14,
      "outputs": [
        {
          "output_type": "display_data",
          "data": {
            "image/png": "[encoded data removed]",
            "text/plain": [
              "<PIL.Image.Image image mode=RGB size=150x150 at 0x7EFF1F0F3350>"
            ]
          },
          "metadata": {}
        }
      ]
    },
    {
      "cell_type": "code",
      "metadata": {
        "id": "tHSdqO7GDnzi"
      },
      "source": [
        "def get_img_arrays(data, label):\n",
        "    img_arrays = []\n",
        "    for i in data:\n",
        "      if i.endswith('.png'):\n",
        "        img = cv2.imread(i ,cv2.IMREAD_COLOR)\n",
        "        img_sized = cv2.resize(img, (50, 50), interpolation=cv2.INTER_LINEAR)\n",
        "        img_re=img_sized/255.0\n",
        "        img_arrays.append([img_re, label])\n",
        "    return img_arrays"
      ],
      "execution_count": 15,
      "outputs": []
    },
    {
      "cell_type": "code",
      "metadata": {
        "id": "TFBjjEKSHx5n"
      },
      "source": [
        "class0_array = get_img_arrays(sampled_class0, 0)"
      ],
      "execution_count": 16,
      "outputs": []
    },
    {
      "cell_type": "code",
      "source": [
        "class1_array = get_img_arrays(sampled_class1, 1)"
      ],
      "metadata": {
        "id": "yiF3vcW6nfdm"
      },
      "execution_count": 17,
      "outputs": []
    },
    {
      "cell_type": "code",
      "metadata": {
        "colab": {
          "base_uri": "https://localhost:8080/"
        },
        "id": "ey4Yq36NHxh_",
        "outputId": "67394734-fa11-4dad-c48a-ce3c3260eaa0"
      },
      "source": [
        "print(len(class0_array))\n",
        "print(len(class1_array))"
      ],
      "execution_count": 18,
      "outputs": [
        {
          "output_type": "stream",
          "name": "stdout",
          "text": [
            "7452\n",
            "7452\n"
          ]
        }
      ]
    },
    {
      "cell_type": "code",
      "metadata": {
        "colab": {
          "base_uri": "https://localhost:8080/",
          "height": 284
        },
        "id": "NhSMDSj0iurE",
        "outputId": "79c1d9c1-0998-44ec-c444-428ba4dbe8e1"
      },
      "source": [
        "plt.imshow(class1_array[10][0])"
      ],
      "execution_count": 19,
      "outputs": [
        {
          "output_type": "execute_result",
          "data": {
            "text/plain": [
              "<matplotlib.image.AxesImage at 0x7eff1ee9c8d0>"
            ]
          },
          "metadata": {},
          "execution_count": 19
        },
        {
          "output_type": "display_data",
          "data": {
            "image/png": "[encoded data removed]",
            "text/plain": [
              "<Figure size 432x288 with 1 Axes>"
            ]
          },
          "metadata": {
            "needs_background": "light"
          }
        }
      ]
    },
    {
      "cell_type": "code",
      "metadata": {
        "colab": {
          "base_uri": "https://localhost:8080/"
        },
        "id": "NW3sSKWmiupJ",
        "outputId": "9f049b97-610f-45d4-e50a-455661187878"
      },
      "source": [
        "class0_array_np = np.asarray(class0_array)"
      ],
      "execution_count": null,
      "outputs": [
        {
          "output_type": "stream",
          "name": "stderr",
          "text": [
            "/usr/local/lib/python3.7/dist-packages/numpy/core/_asarray.py:83: VisibleDeprecationWarning: Creating an ndarray from ragged nested sequences (which is a list-or-tuple of lists-or-tuples-or ndarrays with different lengths or shapes) is deprecated. If you meant to do this, you must specify 'dtype=object' when creating the ndarray\n",
            "  return array(a, dtype, copy=False, order=order)\n"
          ]
        }
      ]
    },
    {
      "cell_type": "code",
      "metadata": {
        "colab": {
          "base_uri": "https://localhost:8080/"
        },
        "id": "yjoJoYc8wZnl",
        "outputId": "9498b81b-6c36-43d6-da6b-0abc6c37c642"
      },
      "source": [
        "class0_array_np[1]"
      ],
      "execution_count": null,
      "outputs": [
        {
          "output_type": "execute_result",
          "data": {
            "text/plain": [
              "array([array([[[0.78431373, 0.64313725, 0.89411765],\n",
              "        [0.78431373, 0.67058824, 0.89411765],\n",
              "        [0.74901961, 0.62745098, 0.84313725],\n",
              "        ...,\n",
              "        [0.8       , 0.69411765, 0.90980392],\n",
              "        [0.75686275, 0.61568627, 0.81960784],\n",
              "        [0.76470588, 0.63137255, 0.89019608]],\n",
              "\n",
              "       [[0.79215686, 0.68627451, 0.89019608],\n",
              "        [0.79215686, 0.68627451, 0.90980392],\n",
              "        [0.82745098, 0.7254902 , 0.91764706],\n",
              "        ...,\n",
              "        [0.81176471, 0.72941176, 0.91764706],\n",
              "        [0.79607843, 0.69411765, 0.89803922],\n",
              "        [0.8       , 0.69803922, 0.90196078]],\n",
              "\n",
              "       [[0.77254902, 0.65490196, 0.88627451],\n",
              "        [0.74901961, 0.61568627, 0.89803922],\n",
              "        [0.69019608, 0.5372549 , 0.89411765],\n",
              "        ...,\n",
              "        [0.81568627, 0.72156863, 0.90196078],\n",
              "        [0.81568627, 0.73333333, 0.90980392],\n",
              "        [0.85490196, 0.77254902, 0.91764706]],\n",
              "\n",
              "       ...,\n",
              "\n",
              "       [[0.95686275, 0.95294118, 0.94117647],\n",
              "        [0.94117647, 0.92941176, 0.95294118],\n",
              "        [0.94509804, 0.95294118, 0.95294118],\n",
              "        ...,\n",
              "        [0.79215686, 0.67843137, 0.90980392],\n",
              "        [0.65882353, 0.48627451, 0.85490196],\n",
              "        [0.60392157, 0.41960784, 0.84313725]],\n",
              "\n",
              "       [[0.92941176, 0.94509804, 0.94901961],\n",
              "        [0.96078431, 0.94117647, 0.95686275],\n",
              "        [0.94901961, 0.93333333, 0.95294118],\n",
              "        ...,\n",
              "        [0.81568627, 0.73333333, 0.90588235],\n",
              "        [0.88627451, 0.85490196, 0.94901961],\n",
              "        [0.8       , 0.71764706, 0.89803922]],\n",
              "\n",
              "       [[0.95686275, 0.9372549 , 0.95294118],\n",
              "        [0.94117647, 0.94117647, 0.94901961],\n",
              "        [0.94901961, 0.94117647, 0.95686275],\n",
              "        ...,\n",
              "        [0.87058824, 0.8       , 0.92941176],\n",
              "        [0.89019608, 0.84705882, 0.93333333],\n",
              "        [0.9254902 , 0.89019608, 0.9372549 ]]]),\n",
              "       0], dtype=object)"
            ]
          },
          "metadata": {},
          "execution_count": 37
        }
      ]
    },
    {
      "cell_type": "code",
      "metadata": {
        "id": "PBhrEPCxiuaU"
      },
      "source": [
        "np.savetxt('/content/drive/MyDrive/Breast_Cancer_Classification/data/class0_array.txt',class0_array)"
      ],
      "execution_count": null,
      "outputs": []
    },
    {
      "cell_type": "code",
      "metadata": {
        "colab": {
          "base_uri": "https://localhost:8080/"
        },
        "id": "wbxvQpxDvde1",
        "outputId": "055b731d-fbd3-479a-87d2-79f09138d238"
      },
      "source": [
        "combined_data = np.concatenate((class0_array, class1_array))"
      ],
      "execution_count": 20,
      "outputs": [
        {
          "output_type": "stream",
          "name": "stderr",
          "text": [
            "<string>:6: VisibleDeprecationWarning: Creating an ndarray from ragged nested sequences (which is a list-or-tuple of lists-or-tuples-or ndarrays with different lengths or shapes) is deprecated. If you meant to do this, you must specify 'dtype=object' when creating the ndarray\n"
          ]
        }
      ]
    },
    {
      "cell_type": "code",
      "metadata": {
        "colab": {
          "base_uri": "https://localhost:8080/"
        },
        "id": "J0aFR3jWw0sO",
        "outputId": "f6bf0505-e7d4-4397-9698-613207ed14e2"
      },
      "source": [
        "combined_data.shape"
      ],
      "execution_count": 21,
      "outputs": [
        {
          "output_type": "execute_result",
          "data": {
            "text/plain": [
              "(14904, 2)"
            ]
          },
          "metadata": {},
          "execution_count": 21
        }
      ]
    },
    {
      "cell_type": "code",
      "metadata": {
        "id": "6VCSK6ogw37b"
      },
      "source": [
        "np.save('/content/drive/MyDrive/Breast_Cancer_Classification/data/combined_arr.npz',combined_data)"
      ],
      "execution_count": 22,
      "outputs": []
    },
    {
      "cell_type": "code",
      "metadata": {
        "colab": {
          "base_uri": "https://localhost:8080/"
        },
        "id": "eaodffPYw_om",
        "outputId": "14f96dd4-08cd-451b-90ad-7d35e9ee96bc"
      },
      "source": [
        "a = np.load('/content/drive/MyDrive/Breast_Cancer_Classification/data/combined_arr.npz.npy',allow_pickle=True)\n",
        "a.shape"
      ],
      "execution_count": 24,
      "outputs": [
        {
          "output_type": "execute_result",
          "data": {
            "text/plain": [
              "(14904, 2)"
            ]
          },
          "metadata": {},
          "execution_count": 24
        }
      ]
    },
    {
      "cell_type": "code",
      "metadata": {
        "id": "uTUDytrNzU8Z"
      },
      "source": [
        "X = []\n",
        "y = []\n",
        "\n",
        "for features,label in a:\n",
        "    X.append(features)\n",
        "    y.append(label)"
      ],
      "execution_count": 25,
      "outputs": []
    },
    {
      "cell_type": "code",
      "metadata": {
        "colab": {
          "base_uri": "https://localhost:8080/"
        },
        "id": "Et6tLeamPp6M",
        "outputId": "e2afdc04-6ddd-4303-cc91-c886a8b7c755"
      },
      "source": [
        "len(X)"
      ],
      "execution_count": 26,
      "outputs": [
        {
          "output_type": "execute_result",
          "data": {
            "text/plain": [
              "14904"
            ]
          },
          "metadata": {},
          "execution_count": 26
        }
      ]
    },
    {
      "cell_type": "code",
      "metadata": {
        "colab": {
          "base_uri": "https://localhost:8080/"
        },
        "id": "-qC6JQkHPu3X",
        "outputId": "34b8534d-dc18-453d-bc8a-1bf0ca117469"
      },
      "source": [
        "len(y)"
      ],
      "execution_count": 27,
      "outputs": [
        {
          "output_type": "execute_result",
          "data": {
            "text/plain": [
              "14904"
            ]
          },
          "metadata": {},
          "execution_count": 27
        }
      ]
    },
    {
      "cell_type": "code",
      "metadata": {
        "id": "NJaimpgzPxeX"
      },
      "source": [
        "X = np.array(X).reshape(-1, 50, 50, 3)"
      ],
      "execution_count": 28,
      "outputs": []
    },
    {
      "cell_type": "code",
      "metadata": {
        "colab": {
          "base_uri": "https://localhost:8080/"
        },
        "id": "cVviy2lHP9ze",
        "outputId": "982988b9-f5d1-4c0e-9a87-77091a54c5fe"
      },
      "source": [
        "X.shape"
      ],
      "execution_count": 29,
      "outputs": [
        {
          "output_type": "execute_result",
          "data": {
            "text/plain": [
              "(14904, 50, 50, 3)"
            ]
          },
          "metadata": {},
          "execution_count": 29
        }
      ]
    },
    {
      "cell_type": "code",
      "metadata": {
        "colab": {
          "base_uri": "https://localhost:8080/"
        },
        "id": "E_mntAdmP_1n",
        "outputId": "6c5d059a-7fd8-4f70-fe9d-9f03454e39be"
      },
      "source": [
        "from sklearn.model_selection import train_test_split\n",
        "from keras.utils.np_utils import to_categorical\n",
        "\n",
        "X_train, X_test, y_train, y_test = train_test_split(X, y, test_size=0.25, random_state=42)\n",
        "y_train = to_categorical(y_train)\n",
        "y_test = to_categorical(y_test)\n",
        "print(X_train.shape, X_test.shape, y_train.shape, y_test.shape)"
      ],
      "execution_count": 54,
      "outputs": [
        {
          "output_type": "stream",
          "name": "stdout",
          "text": [
            "(11178, 50, 50, 3) (3726, 50, 50, 3) (11178, 2) (3726, 2)\n"
          ]
        }
      ]
    },
    {
      "cell_type": "code",
      "source": [
        ""
      ],
      "metadata": {
        "id": "64_5m-YOQzTs"
      },
      "execution_count": null,
      "outputs": []
    },
    {
      "cell_type": "code",
      "metadata": {
        "id": "1rgrjV77QKE5"
      },
      "source": [
        "import tensorflow as tf\n",
        "from tensorflow import keras\n",
        "\n",
        "model = keras.models.Sequential([\n",
        "    keras.layers.Conv2D(filters=100, kernel_size=(3,3), strides=(1,1), activation='relu', input_shape=(50,50,3)),\n",
        "    keras.layers.BatchNormalization(),\n",
        "    keras.layers.MaxPool2D(pool_size=(2,2), strides=(2,2)),\n",
        "    keras.layers.Conv2D(filters=256, kernel_size=(2,2), strides=(2,2), activation='relu', padding=\"same\"),\n",
        "    keras.layers.BatchNormalization(),\n",
        "    keras.layers.MaxPool2D(pool_size=(3,3), strides=(2,2)),\n",
        "    keras.layers.Conv2D(filters=384, kernel_size=(2,2), strides=(1,1), activation='relu', padding=\"same\"),\n",
        "    keras.layers.BatchNormalization(),\n",
        "    keras.layers.Conv2D(filters=384, kernel_size=(1,1), strides=(1,1), activation='relu', padding=\"same\"),\n",
        "    keras.layers.BatchNormalization(),\n",
        "    keras.layers.Conv2D(filters=256, kernel_size=(1,1), strides=(1,1), activation='relu', padding=\"same\"),\n",
        "    keras.layers.BatchNormalization(),\n",
        "    keras.layers.MaxPool2D(pool_size=(3,3), strides=(2,2)),\n",
        "    keras.layers.Flatten(),\n",
        "    keras.layers.Dense(9216,input_shape=(12544,), activation='relu'),\n",
        "    keras.layers.Dense(4096, activation='relu'),\n",
        "    keras.layers.Dropout(0.5),\n",
        "    keras.layers.Dense(4096, activation='relu'),\n",
        "    keras.layers.Dropout(0.5),\n",
        "    keras.layers.Dense(2, activation='sigmoid')\n",
        "])"
      ],
      "execution_count": 35,
      "outputs": []
    },
    {
      "cell_type": "code",
      "metadata": {
        "id": "Hz6By9UpxzqY"
      },
      "source": [
        ""
      ],
      "execution_count": null,
      "outputs": []
    },
    {
      "cell_type": "code",
      "metadata": {
        "id": "XLBLUGPpQWtX"
      },
      "source": [
        "model.compile(\n",
        "    optimizer=tf.optimizers.Adam(learning_rate=0.000001),\n",
        "    loss='binary_crossentropy',\n",
        "    metrics=['accuracy','Recall','Precision']\n",
        ")"
      ],
      "execution_count": 36,
      "outputs": []
    },
    {
      "cell_type": "code",
      "metadata": {
        "colab": {
          "base_uri": "https://localhost:8080/"
        },
        "id": "U7tTzrOQQbbY",
        "outputId": "4c39f3ab-2d90-4f9f-f885-6d4d15d5ca71"
      },
      "source": [
        "model.summary()"
      ],
      "execution_count": 37,
      "outputs": [
        {
          "output_type": "stream",
          "name": "stdout",
          "text": [
            "Model: \"sequential_4\"\n",
            "_________________________________________________________________\n",
            " Layer (type)                Output Shape              Param #   \n",
            "=================================================================\n",
            " conv2d_4 (Conv2D)           (None, 48, 48, 100)       2800      \n",
            "                                                                 \n",
            " batch_normalization_1 (Batc  (None, 48, 48, 100)      400       \n",
            " hNormalization)                                                 \n",
            "                                                                 \n",
            " max_pooling2d_1 (MaxPooling  (None, 24, 24, 100)      0         \n",
            " 2D)                                                             \n",
            "                                                                 \n",
            " conv2d_5 (Conv2D)           (None, 12, 12, 256)       102656    \n",
            "                                                                 \n",
            " batch_normalization_2 (Batc  (None, 12, 12, 256)      1024      \n",
            " hNormalization)                                                 \n",
            "                                                                 \n",
            " max_pooling2d_2 (MaxPooling  (None, 5, 5, 256)        0         \n",
            " 2D)                                                             \n",
            "                                                                 \n",
            " conv2d_6 (Conv2D)           (None, 5, 5, 384)         393600    \n",
            "                                                                 \n",
            " batch_normalization_3 (Batc  (None, 5, 5, 384)        1536      \n",
            " hNormalization)                                                 \n",
            "                                                                 \n",
            " conv2d_7 (Conv2D)           (None, 5, 5, 384)         147840    \n",
            "                                                                 \n",
            " batch_normalization_4 (Batc  (None, 5, 5, 384)        1536      \n",
            " hNormalization)                                                 \n",
            "                                                                 \n",
            " conv2d_8 (Conv2D)           (None, 5, 5, 256)         98560     \n",
            "                                                                 \n",
            " batch_normalization_5 (Batc  (None, 5, 5, 256)        1024      \n",
            " hNormalization)                                                 \n",
            "                                                                 \n",
            " max_pooling2d_3 (MaxPooling  (None, 2, 2, 256)        0         \n",
            " 2D)                                                             \n",
            "                                                                 \n",
            " flatten (Flatten)           (None, 1024)              0         \n",
            "                                                                 \n",
            " dense (Dense)               (None, 9216)              9446400   \n",
            "                                                                 \n",
            " dense_1 (Dense)             (None, 4096)              37752832  \n",
            "                                                                 \n",
            " dropout (Dropout)           (None, 4096)              0         \n",
            "                                                                 \n",
            " dense_2 (Dense)             (None, 4096)              16781312  \n",
            "                                                                 \n",
            " dropout_1 (Dropout)         (None, 4096)              0         \n",
            "                                                                 \n",
            " dense_3 (Dense)             (None, 2)                 8194      \n",
            "                                                                 \n",
            "=================================================================\n",
            "Total params: 64,739,714\n",
            "Trainable params: 64,736,954\n",
            "Non-trainable params: 2,760\n",
            "_________________________________________________________________\n"
          ]
        }
      ]
    },
    {
      "cell_type": "code",
      "metadata": {
        "colab": {
          "base_uri": "https://localhost:8080/"
        },
        "id": "A518BJHeQjWk",
        "outputId": "eb75657d-ac90-498a-cff3-64445c280e1f"
      },
      "source": [
        "history = model.fit(X_train,y_train, validation_data=(X_test, y_test),epochs=10) "
      ],
      "execution_count": 38,
      "outputs": [
        {
          "output_type": "stream",
          "name": "stdout",
          "text": [
            "Epoch 1/10\n",
            "350/350 [==============================] - 366s 1s/step - loss: 0.5941 - accuracy: 0.7158 - recall: 0.6886 - precision: 0.6904 - val_loss: 0.6571 - val_accuracy: 0.5829 - val_recall: 0.6184 - val_precision: 0.5744\n",
            "Epoch 2/10\n",
            "350/350 [==============================] - 362s 1s/step - loss: 0.4920 - accuracy: 0.7899 - recall: 0.7791 - precision: 0.7765 - val_loss: 0.4572 - val_accuracy: 0.8092 - val_recall: 0.8049 - val_precision: 0.8088\n",
            "Epoch 3/10\n",
            "350/350 [==============================] - 363s 1s/step - loss: 0.4672 - accuracy: 0.8042 - recall: 0.7949 - precision: 0.7925 - val_loss: 0.4195 - val_accuracy: 0.8170 - val_recall: 0.8140 - val_precision: 0.8180\n",
            "Epoch 4/10\n",
            "350/350 [==============================] - 364s 1s/step - loss: 0.4515 - accuracy: 0.8064 - recall: 0.7997 - precision: 0.8011 - val_loss: 0.4141 - val_accuracy: 0.8188 - val_recall: 0.8196 - val_precision: 0.8201\n",
            "Epoch 5/10\n",
            "350/350 [==============================] - 365s 1s/step - loss: 0.4346 - accuracy: 0.8152 - recall: 0.8103 - precision: 0.8107 - val_loss: 0.4083 - val_accuracy: 0.8213 - val_recall: 0.8202 - val_precision: 0.8237\n",
            "Epoch 6/10\n",
            "350/350 [==============================] - 366s 1s/step - loss: 0.4294 - accuracy: 0.8188 - recall: 0.8127 - precision: 0.8122 - val_loss: 0.4064 - val_accuracy: 0.8239 - val_recall: 0.8247 - val_precision: 0.8223\n",
            "Epoch 7/10\n",
            "350/350 [==============================] - 366s 1s/step - loss: 0.4198 - accuracy: 0.8196 - recall: 0.8151 - precision: 0.8168 - val_loss: 0.4057 - val_accuracy: 0.8274 - val_recall: 0.8245 - val_precision: 0.8280\n",
            "Epoch 8/10\n",
            "350/350 [==============================] - 365s 1s/step - loss: 0.4172 - accuracy: 0.8242 - recall: 0.8183 - precision: 0.8176 - val_loss: 0.4012 - val_accuracy: 0.8250 - val_recall: 0.8218 - val_precision: 0.8269\n",
            "Epoch 9/10\n",
            "350/350 [==============================] - 362s 1s/step - loss: 0.4105 - accuracy: 0.8247 - recall: 0.8216 - precision: 0.8192 - val_loss: 0.4003 - val_accuracy: 0.8280 - val_recall: 0.8242 - val_precision: 0.8284\n",
            "Epoch 10/10\n",
            "350/350 [==============================] - 361s 1s/step - loss: 0.4035 - accuracy: 0.8289 - recall: 0.8266 - precision: 0.8269 - val_loss: 0.4007 - val_accuracy: 0.8266 - val_recall: 0.8245 - val_precision: 0.8285\n"
          ]
        }
      ]
    },
    {
      "cell_type": "code",
      "metadata": {
        "colab": {
          "base_uri": "https://localhost:8080/"
        },
        "id": "QCnNtlp9Qtpy",
        "outputId": "80c24a5f-d2d1-4fc6-9c42-2a0e6bc0b359"
      },
      "source": [
        "predict = model.evaluate(X_test,y_test)"
      ],
      "execution_count": 39,
      "outputs": [
        {
          "output_type": "stream",
          "name": "stdout",
          "text": [
            "117/117 [==============================] - 20s 167ms/step - loss: 0.4007 - accuracy: 0.8266 - recall: 0.8245 - precision: 0.8285\n"
          ]
        }
      ]
    },
    {
      "cell_type": "code",
      "metadata": {
        "colab": {
          "base_uri": "https://localhost:8080/",
          "height": 295
        },
        "id": "TezzDkY-4L9W",
        "outputId": "c75dbb72-d58f-48d6-af97-c017c32c3c5f"
      },
      "source": [
        "plt.plot(history.history['accuracy'])\n",
        "plt.plot(history.history['val_accuracy'])\n",
        "plt.title('Model Accuracy')\n",
        "plt.ylabel('accuracy')\n",
        "plt.xlabel('epoch')\n",
        "plt.legend(['train', 'test'], loc='upper left')\n",
        "plt.show()"
      ],
      "execution_count": 40,
      "outputs": [
        {
          "output_type": "display_data",
          "data": {
            "image/png": "[encoded data removed]",
            "text/plain": [
              "<Figure size 432x288 with 1 Axes>"
            ]
          },
          "metadata": {
            "needs_background": "light"
          }
        }
      ]
    },
    {
      "cell_type": "code",
      "metadata": {
        "colab": {
          "base_uri": "https://localhost:8080/",
          "height": 295
        },
        "id": "k0t7fDk14UT6",
        "outputId": "53ac1ccb-2742-4556-f4db-f4d39409a2fd"
      },
      "source": [
        "plt.plot(history.history['loss'])\n",
        "plt.plot(history.history['val_loss'])\n",
        "plt.title('Model Loss')\n",
        "plt.ylabel('loss')\n",
        "plt.xlabel('epoch')\n",
        "plt.legend(['train', 'test'], loc='upper left')\n",
        "plt.show()"
      ],
      "execution_count": 41,
      "outputs": [
        {
          "output_type": "display_data",
          "data": {
            "image/png": "[encoded data removed]",
            "text/plain": [
              "<Figure size 432x288 with 1 Axes>"
            ]
          },
          "metadata": {
            "needs_background": "light"
          }
        }
      ]
    },
    {
      "cell_type": "code",
      "metadata": {
        "id": "STky0vCU4UQj"
      },
      "source": [
        "y_pred = model.predict(X_test)"
      ],
      "execution_count": 42,
      "outputs": []
    },
    {
      "cell_type": "code",
      "metadata": {
        "id": "SQSAl7sM5l3X"
      },
      "source": [
        "Y_pred=[]\n",
        "for i in y_pred:\n",
        "    if i[0]>i[1]:\n",
        "        Y_pred.append(0)\n",
        "    else:\n",
        "        Y_pred.append(1)"
      ],
      "execution_count": 43,
      "outputs": []
    },
    {
      "cell_type": "code",
      "metadata": {
        "id": "2I7LKZ5_5l0B"
      },
      "source": [
        "Y_test=[]\n",
        "for i in y_test:\n",
        "    if i[0]>i[1]:\n",
        "        Y_test.append(0)\n",
        "    else:\n",
        "        Y_test.append(1)"
      ],
      "execution_count": 44,
      "outputs": []
    },
    {
      "cell_type": "code",
      "metadata": {
        "colab": {
          "base_uri": "https://localhost:8080/"
        },
        "id": "fUh9r9Sg4UNk",
        "outputId": "6c51637b-0b4c-4b4b-a57d-56bd7d3d89fe"
      },
      "source": [
        "from sklearn.metrics import classification_report, confusion_matrix\n",
        "print('Confusion Matrix')\n",
        "print(confusion_matrix(Y_test, Y_pred))\n",
        "print('Classification Report')\n",
        "print(classification_report(Y_test, Y_pred, target_names=['Negative','Positive']))"
      ],
      "execution_count": 45,
      "outputs": [
        {
          "output_type": "stream",
          "name": "stdout",
          "text": [
            "Confusion Matrix\n",
            "[[1478  370]\n",
            " [ 276 1602]]\n",
            "Classification Report\n",
            "              precision    recall  f1-score   support\n",
            "\n",
            "    Negative       0.84      0.80      0.82      1848\n",
            "    Positive       0.81      0.85      0.83      1878\n",
            "\n",
            "    accuracy                           0.83      3726\n",
            "   macro avg       0.83      0.83      0.83      3726\n",
            "weighted avg       0.83      0.83      0.83      3726\n",
            "\n"
          ]
        }
      ]
    },
    {
      "cell_type": "code",
      "metadata": {
        "colab": {
          "base_uri": "https://localhost:8080/",
          "height": 455
        },
        "id": "ffGdKq_35YG4",
        "outputId": "cce6c359-c69b-472e-ad74-1a1292a802bf"
      },
      "source": [
        "import seaborn as sns\n",
        "\n",
        "figure = plt.figure(figsize=(6, 6))\n",
        "sns.heatmap(confusion_matrix(Y_test, Y_pred), annot=True,cmap=plt.cm.cool,fmt='d')\n",
        "plt.tight_layout()\n",
        "plt.ylabel('Actual')\n",
        "plt.xlabel('Predicted')\n",
        "plt.show()"
      ],
      "execution_count": 79,
      "outputs": [
        {
          "output_type": "display_data",
          "data": {
            "image/png": "[encoded data removed]",
            "text/plain": [
              "<Figure size 432x432 with 2 Axes>"
            ]
          },
          "metadata": {
            "needs_background": "light"
          }
        }
      ]
    },
    {
      "cell_type": "code",
      "source": [
        ""
      ],
      "metadata": {
        "id": "pqJRum6TlzRP"
      },
      "execution_count": null,
      "outputs": []
    },
    {
      "cell_type": "code",
      "source": [
        ""
      ],
      "metadata": {
        "id": "svx71AHMuRfh"
      },
      "execution_count": null,
      "outputs": []
    },
    {
      "cell_type": "code",
      "source": [
        ""
      ],
      "metadata": {
        "id": "d0QiKSDSuRTg"
      },
      "execution_count": null,
      "outputs": []
    },
    {
      "cell_type": "code",
      "source": [
        ""
      ],
      "metadata": {
        "id": "rbpykT2LuRHN"
      },
      "execution_count": null,
      "outputs": []
    }
  ]
}